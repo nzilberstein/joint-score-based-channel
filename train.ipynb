{
 "cells": [
  {
   "cell_type": "code",
   "execution_count": 1,
   "metadata": {},
   "outputs": [
    {
     "name": "stderr",
     "output_type": "stream",
     "text": [
      "/home/nicolas/anaconda3/envs/torch-env/lib/python3.9/site-packages/torchvision/io/image.py:11: UserWarning: Failed to load image Python extension: libtorch_cuda_cu.so: cannot open shared object file: No such file or directory\n",
      "  warn(f\"Failed to load image Python extension: {e}\")\n"
     ]
    }
   ],
   "source": [
    "#!/usr/bin/env python3\n",
    "# -*- coding: utf-8 -*-\n",
    "\n",
    "import numpy as np\n",
    "import torch, sys, os, copy\n",
    "sys.path.append('./')\n",
    "\n",
    "from tqdm import tqdm as tqdm_base\n",
    "def tqdm(*args, **kwargs):\n",
    "    if hasattr(tqdm_base, '_instances'):\n",
    "        for instance in list(tqdm_base._instances):\n",
    "            tqdm_base._decr_instances(instance)\n",
    "    return tqdm_base(*args, **kwargs)\n",
    "\n",
    "from ncsnv2.models        import get_sigmas\n",
    "from ncsnv2.models.ema    import EMAHelper\n",
    "from ncsnv2.models.ncsnv2 import NCSNv2Deepest\n",
    "from ncsnv2.losses        import get_optimizer\n",
    "from ncsnv2.losses.dsm    import anneal_dsm_score_estimation\n",
    "\n",
    "import scipy.io as sio\n",
    "import random\n",
    "from loaders          import Channels\n",
    "from torch.utils.data import DataLoader\n",
    "\n",
    "from dotmap import DotMap\n",
    "\n",
    "from sample_generator import *\n",
    "\n",
    "%load_ext autoreload\n",
    "%autoreload 2\n"
   ]
  },
  {
   "cell_type": "code",
   "execution_count": 2,
   "metadata": {},
   "outputs": [],
   "source": [
    "# Always !!!\n",
    "torch.backends.cuda.matmul.allow_tf32 = False\n",
    "torch.backends.cudnn.allow_tf32       = False\n",
    "\n",
    "# GPU\n",
    "os.environ[\"CUDA_DEVICE_ORDER\"]    = \"PCI_BUS_ID\";\n",
    "os.environ[\"CUDA_VISIBLE_DEVICES\"] = \"0\";\n",
    "\n",
    "# Model config\n",
    "config          = DotMap()\n",
    "config.device   = 'cuda:0'\n",
    "# Inner model\n",
    "config.model.ema           = True\n",
    "config.model.ema_rate      = 0.999\n",
    "config.model.normalization = 'InstanceNorm++'\n",
    "config.model.nonlinearity  = 'elu'\n",
    "config.model.sigma_dist    = 'geometric'\n",
    "config.model.num_classes   = 2311 # Number of train sigmas and 'N'\n",
    "config.model.ngf           = 32\n",
    "\n",
    "# Optimizer\n",
    "config.optim.weight_decay  = 0.000 # No weight decay\n",
    "config.optim.optimizer     = 'Adam'\n",
    "config.optim.lr            = 0.0001\n",
    "config.optim.beta1         = 0.9\n",
    "config.optim.amsgrad       = False\n",
    "config.optim.eps           = 0.001\n",
    "\n",
    "# Training\n",
    "config.training.batch_size     = 32\n",
    "config.training.num_workers    = 4\n",
    "config.training.n_epochs       = 40\n",
    "config.training.anneal_power   = 2\n",
    "config.training.log_all_sigmas = False\n",
    "config.training.eval_freq      = 50 # In epochs\n",
    "\n",
    "# Data\n",
    "config.data.channel        = '3GPP' # Training and validation\n",
    "config.data.channels       = 2 # {Re, Im}\n",
    "config.data.num_pilots     = 8\n",
    "config.data.noise_std      = 0.01 # 'Beta' in paper\n",
    "config.data.image_size     = [64, 32] # Channel size = Nr x Nt\n",
    "config.data.mixed_channels = False\n",
    "config.data.norm_channels  = 'global' # Optional, no major impact\n",
    "config.data.spacing_list   = [0.5] # Training and validation\n",
    "\n",
    "# Universal seeds\n",
    "train_seed, val_seed = 1234, 4321\n"
   ]
  },
  {
   "cell_type": "code",
   "execution_count": 4,
   "metadata": {},
   "outputs": [],
   "source": [
    "# Get datasets and loaders for channels\n",
    "# train_samples = 8000\n",
    "# generator = sample_generator(train_samples, 4, config.data.image_size[0])\n",
    "\n",
    "# H, y, x, j_indices, noise_sigma = generator.give_batch_data(config.data.image_size[1], snr_db_min=0,\n",
    "#                                                                 snr_db_max=0, \n",
    "#                                                                 batch_size=train_samples,\n",
    "#                                                                 correlated_flag=True, \n",
    "#                                                                 rho=0.6\n",
    "#                                                                 )\n",
    "\n",
    "# del y, x, j_indices  \n",
    "\n",
    "# H = H.detach().numpy()\n",
    "# H_complex = H[:,0:config.data.image_size[0], 0:config.data.image_size[1]] + 1j * H[:,config.data.image_size[0]:, 0:config.data.image_size[1]] \n",
    "\n",
    "##\n",
    "# NT = 32\n",
    "train_samples = 7500\n",
    "mat_contents = sio.loadmat('data/H_bank_64.mat')\n",
    "H = mat_contents['H_bank']\n",
    "# H = torch.tensor(H[:, :, 0:config.NT])\n",
    "H_complex = torch.tensor(H[:train_samples, :, :]).detach().numpy()#Pick up NT random users from 100.\n",
    "\n",
    "#############################################\n",
    "dataset     = Channels(train_seed, config, H = H_complex, norm=config.data.norm_channels)\n",
    "dataloader  = DataLoader(dataset, batch_size=config.training.batch_size, \n",
    "                         shuffle=True, num_workers=config.training.num_workers,\n",
    "                         drop_last=True)\n",
    "\n",
    "######\n",
    "\n",
    "# val_samples = 2000\n",
    "# H_val, y, x, j_indices, noise_sigma = generator.give_batch_data(config.data.image_size[1], snr_db_min=0,\n",
    "#                                                                 snr_db_max=0, \n",
    "#                                                                 batch_size=val_samples, \n",
    "#                                                                 correlated_flag=True, \n",
    "#                                                                 rho=0.6\n",
    "#                                                                 )\n",
    "\n",
    "# del y, x, j_indices  \n",
    "\n",
    "# H_val = H_val.detach().numpy()\n",
    "# H_val_complex = H_val[:,0:config.data.image_size[0], 0:config.data.image_size[1]] + 1j * H_val[:,config.data.image_size[0]:, 0:config.data.image_size[1]] \n",
    "\n",
    "\n",
    "# H = torch.tensor(H[:, :, 0:config.NT])\n",
    "H_val_complex = torch.tensor(H[train_samples:9500, :, :]).detach().numpy()#Pick up NT random users from 100.\n",
    "val_samples = H_val_complex.shape[0]\n",
    "\n",
    "\n",
    "####################################################\n",
    "# Create separate validation sets\n",
    "val_datasets, val_loaders, val_iters = [], [], []\n",
    "for idx in range(len(config.data.spacing_list)):\n",
    "    # Validation config\n",
    "    val_config = copy.deepcopy(config)\n",
    "    val_config.data.spacing_list = [config.data.spacing_list[idx]]\n",
    "    # Create locals\n",
    "    val_datasets.append(Channels(val_seed, val_config, H = H_val_complex,  norm=config.data.norm_channels))\n",
    "    val_loaders.append(DataLoader(\n",
    "        val_datasets[-1], batch_size=len(val_datasets[-1]),\n",
    "        shuffle=False, num_workers=0, drop_last=True))\n",
    "    val_iters.append(iter(val_loaders[-1])) # For validation"
   ]
  },
  {
   "cell_type": "code",
   "execution_count": 5,
   "metadata": {},
   "outputs": [],
   "source": [
    "# Construct pairwise distances\n",
    "if False: # Set to true to follow [Song '20] exactly\n",
    "    dist_matrix   = np.zeros((len(dataset), len(dataset)))\n",
    "    flat_channels = dataset.channels.reshape((len(dataset), -1))\n",
    "    for idx in tqdm(range(len(dataset))):\n",
    "        dist_matrix[idx] = np.linalg.norm(\n",
    "            flat_channels[idx][None, :] - flat_channels, axis=-1)\n",
    "    dist_matrix_vec = dist_matrix.reshape(dist_matrix.shape[0] * dist_matrix.shape[1], 1).squeeze()\n",
    "    dist_matrix_vec[np.argmax(dist_matrix.reshape(dist_matrix.shape[0] * dist_matrix.shape[1], 1).squeeze())]        \n",
    "\n",
    "# Pre-determined values\n",
    "# config.model.sigma_begin = 39.15 # !!! For CDL-D mixture\n",
    "# config.model.sigma_begin = 27.77 # !!! For CDL-D lambda/2\n",
    "config.model.sigma_begin = 30 # !!! For CDL-C\n",
    "    \n",
    "# Apply Song's third recommendation\n",
    "if False:\n",
    "    from scipy.stats import norm\n",
    "    candidate_gamma = np.logspace(np.log10(0.9), np.log10(0.99999), 1000)\n",
    "    gamma_criterion = np.zeros((len(candidate_gamma)))\n",
    "    for idx, gamma in enumerate(candidate_gamma):\n",
    "        gamma_criterion[idx] = \\\n",
    "            norm.cdf(np.sqrt(2 * np.prod(dataset[0]['H'].shape)) * (gamma - 1) + 3*gamma) - \\\n",
    "            norm.cdf(np.sqrt(2 * np.prod(dataset[0]['H'].shape)) * (gamma - 1) - 3*gamma)\n",
    "    best_idx = np.argmin(np.abs(gamma_criterion - 0.5))\n",
    "    \n",
    "# Pre-determined\n",
    "config.model.sigma_rate = 0.995 # !!! For everything\n",
    "config.model.sigma_end  = config.model.sigma_begin * \\\n",
    "    config.model.sigma_rate ** (config.model.num_classes - 1)\n",
    "\n",
    "# Choose the step size (epsilon) according to [Song '20]\n",
    "candidate_steps = np.logspace(-13, -8, 1000)\n",
    "step_criterion  = np.zeros((len(candidate_steps)))\n",
    "gamma_rate      = 1 / config.model.sigma_rate\n",
    "for idx, step in enumerate(candidate_steps):\n",
    "    step_criterion[idx] = (1 - step / config.model.sigma_end ** 2) \\\n",
    "        ** (2 * config.model.num_classes) * (gamma_rate ** 2 -\n",
    "            2 * step / (config.model.sigma_end ** 2 - config.model.sigma_end ** 2 * (\n",
    "                1 - step / config.model.sigma_end ** 2) ** 2)) + \\\n",
    "            2 * step / (config.model.sigma_end ** 2 - config.model.sigma_end ** 2 * (\n",
    "                1 - step / config.model.sigma_end ** 2) ** 2)\n",
    "best_idx = np.argmin(np.abs(step_criterion - 1.))\n",
    "config.model.step_size = candidate_steps[best_idx]\n"
   ]
  },
  {
   "cell_type": "code",
   "execution_count": 6,
   "metadata": {},
   "outputs": [],
   "source": [
    "# Get a model\n",
    "diffuser = NCSNv2Deepest(config)\n",
    "diffuser = diffuser.cuda()\n",
    "# Get optimizer\n",
    "optimizer = get_optimizer(config, diffuser.parameters())"
   ]
  },
  {
   "cell_type": "code",
   "execution_count": 7,
   "metadata": {},
   "outputs": [
    {
     "data": {
      "text/plain": [
       "<torch.utils.data.dataloader._SingleProcessDataLoaderIter at 0x7ff60567bf40>"
      ]
     },
     "execution_count": 7,
     "metadata": {},
     "output_type": "execute_result"
    }
   ],
   "source": [
    "val_iters[0]"
   ]
  },
  {
   "cell_type": "code",
   "execution_count": 8,
   "metadata": {},
   "outputs": [
    {
     "name": "stderr",
     "output_type": "stream",
     "text": [
      "103it [00:07,  9.18it/s]0:00<?, ?it/s]"
     ]
    },
    {
     "name": "stdout",
     "output_type": "stream",
     "text": [
      "Epoch 0, Step 100, Train Loss (EMA) 2110.248,     Val. Loss 2489.627\n"
     ]
    },
    {
     "name": "stderr",
     "output_type": "stream",
     "text": [
      "203it [00:13,  9.28it/s]"
     ]
    },
    {
     "name": "stdout",
     "output_type": "stream",
     "text": [
      "Epoch 0, Step 200, Train Loss (EMA) 1665.342,     Val. Loss 2227.920\n"
     ]
    },
    {
     "name": "stderr",
     "output_type": "stream",
     "text": [
      "234it [00:15, 14.83it/s]\n",
      "68it [00:04,  8.82it/s]00:15<10:18, 15.86s/it]"
     ]
    },
    {
     "name": "stdout",
     "output_type": "stream",
     "text": [
      "Epoch 1, Step 300, Train Loss (EMA) 1496.231,     Val. Loss 2038.642\n"
     ]
    },
    {
     "name": "stderr",
     "output_type": "stream",
     "text": [
      "168it [00:10,  9.22it/s]"
     ]
    },
    {
     "name": "stdout",
     "output_type": "stream",
     "text": [
      "Epoch 1, Step 400, Train Loss (EMA) 1393.759,     Val. Loss 1878.101\n"
     ]
    },
    {
     "name": "stderr",
     "output_type": "stream",
     "text": [
      "234it [00:14, 16.20it/s]\n",
      "34it [00:02,  9.11it/s]00:30<09:33, 15.10s/it]"
     ]
    },
    {
     "name": "stdout",
     "output_type": "stream",
     "text": [
      "Epoch 2, Step 500, Train Loss (EMA) 1373.710,     Val. Loss 1774.015\n"
     ]
    },
    {
     "name": "stderr",
     "output_type": "stream",
     "text": [
      "134it [00:08,  9.23it/s]"
     ]
    },
    {
     "name": "stdout",
     "output_type": "stream",
     "text": [
      "Epoch 2, Step 600, Train Loss (EMA) 1370.615,     Val. Loss 1686.600\n"
     ]
    },
    {
     "name": "stderr",
     "output_type": "stream",
     "text": [
      "234it [00:14, 15.72it/s]\n",
      "  8%|▊         | 3/40 [00:45<09:17, 15.06s/it]"
     ]
    },
    {
     "name": "stdout",
     "output_type": "stream",
     "text": [
      "Epoch 2, Step 700, Train Loss (EMA) 1339.047,     Val. Loss 1591.065\n"
     ]
    },
    {
     "name": "stderr",
     "output_type": "stream",
     "text": [
      "100it [00:06,  9.05it/s]"
     ]
    },
    {
     "name": "stdout",
     "output_type": "stream",
     "text": [
      "Epoch 3, Step 800, Train Loss (EMA) 1325.777,     Val. Loss 1555.008\n"
     ]
    },
    {
     "name": "stderr",
     "output_type": "stream",
     "text": [
      "200it [00:12,  9.10it/s]"
     ]
    },
    {
     "name": "stdout",
     "output_type": "stream",
     "text": [
      "Epoch 3, Step 900, Train Loss (EMA) 1313.155,     Val. Loss 1503.526\n"
     ]
    },
    {
     "name": "stderr",
     "output_type": "stream",
     "text": [
      "234it [00:14, 16.07it/s]\n",
      "66it [00:04,  9.10it/s]01:00<08:56, 14.91s/it]"
     ]
    },
    {
     "name": "stdout",
     "output_type": "stream",
     "text": [
      "Epoch 4, Step 1000, Train Loss (EMA) 1324.405,     Val. Loss 1474.070\n"
     ]
    },
    {
     "name": "stderr",
     "output_type": "stream",
     "text": [
      "166it [00:10,  9.20it/s]"
     ]
    },
    {
     "name": "stdout",
     "output_type": "stream",
     "text": [
      "Epoch 4, Step 1100, Train Loss (EMA) 1323.089,     Val. Loss 1438.519\n"
     ]
    },
    {
     "name": "stderr",
     "output_type": "stream",
     "text": [
      "234it [00:14, 16.19it/s]\n",
      "32it [00:02,  9.02it/s]01:14<08:37, 14.79s/it]"
     ]
    },
    {
     "name": "stdout",
     "output_type": "stream",
     "text": [
      "Epoch 5, Step 1200, Train Loss (EMA) 1319.993,     Val. Loss 1411.033\n"
     ]
    },
    {
     "name": "stderr",
     "output_type": "stream",
     "text": [
      "132it [00:08,  9.23it/s]"
     ]
    },
    {
     "name": "stdout",
     "output_type": "stream",
     "text": [
      "Epoch 5, Step 1300, Train Loss (EMA) 1303.935,     Val. Loss 1388.518\n"
     ]
    },
    {
     "name": "stderr",
     "output_type": "stream",
     "text": [
      "232it [00:14,  9.22it/s]"
     ]
    },
    {
     "name": "stdout",
     "output_type": "stream",
     "text": [
      "Epoch 5, Step 1400, Train Loss (EMA) 1301.131,     Val. Loss 1374.804\n"
     ]
    },
    {
     "name": "stderr",
     "output_type": "stream",
     "text": [
      "234it [00:14, 15.73it/s]\n",
      "98it [00:06,  9.16it/s]01:29<08:25, 14.86s/it]"
     ]
    },
    {
     "name": "stdout",
     "output_type": "stream",
     "text": [
      "Epoch 6, Step 1500, Train Loss (EMA) 1308.065,     Val. Loss 1390.317\n"
     ]
    },
    {
     "name": "stderr",
     "output_type": "stream",
     "text": [
      "198it [00:12,  9.29it/s]"
     ]
    },
    {
     "name": "stdout",
     "output_type": "stream",
     "text": [
      "Epoch 6, Step 1600, Train Loss (EMA) 1293.928,     Val. Loss 1345.402\n"
     ]
    },
    {
     "name": "stderr",
     "output_type": "stream",
     "text": [
      "234it [00:14, 16.32it/s]\n",
      "64it [00:04,  9.08it/s]01:44<08:06, 14.74s/it]"
     ]
    },
    {
     "name": "stdout",
     "output_type": "stream",
     "text": [
      "Epoch 7, Step 1700, Train Loss (EMA) 1267.218,     Val. Loss 1352.702\n"
     ]
    },
    {
     "name": "stderr",
     "output_type": "stream",
     "text": [
      "164it [00:10,  9.21it/s]"
     ]
    },
    {
     "name": "stdout",
     "output_type": "stream",
     "text": [
      "Epoch 7, Step 1800, Train Loss (EMA) 1276.967,     Val. Loss 1319.983\n"
     ]
    },
    {
     "name": "stderr",
     "output_type": "stream",
     "text": [
      "234it [00:14, 16.19it/s]\n",
      "30it [00:02,  9.08it/s]01:58<07:49, 14.69s/it]"
     ]
    },
    {
     "name": "stdout",
     "output_type": "stream",
     "text": [
      "Epoch 8, Step 1900, Train Loss (EMA) 1281.597,     Val. Loss 1321.518\n"
     ]
    },
    {
     "name": "stderr",
     "output_type": "stream",
     "text": [
      "130it [00:08,  9.22it/s]"
     ]
    },
    {
     "name": "stdout",
     "output_type": "stream",
     "text": [
      "Epoch 8, Step 2000, Train Loss (EMA) 1280.671,     Val. Loss 1358.045\n"
     ]
    },
    {
     "name": "stderr",
     "output_type": "stream",
     "text": [
      "230it [00:14,  9.51it/s]"
     ]
    },
    {
     "name": "stdout",
     "output_type": "stream",
     "text": [
      "Epoch 8, Step 2100, Train Loss (EMA) 1276.870,     Val. Loss 1334.858\n"
     ]
    },
    {
     "name": "stderr",
     "output_type": "stream",
     "text": [
      "234it [00:14, 16.16it/s]\n",
      "96it [00:05,  8.85it/s]02:13<07:34, 14.66s/it]"
     ]
    },
    {
     "name": "stdout",
     "output_type": "stream",
     "text": [
      "Epoch 9, Step 2200, Train Loss (EMA) 1278.860,     Val. Loss 1305.707\n"
     ]
    },
    {
     "name": "stderr",
     "output_type": "stream",
     "text": [
      "196it [00:12,  9.17it/s]"
     ]
    },
    {
     "name": "stdout",
     "output_type": "stream",
     "text": [
      "Epoch 9, Step 2300, Train Loss (EMA) 1277.381,     Val. Loss 1313.181\n"
     ]
    },
    {
     "name": "stderr",
     "output_type": "stream",
     "text": [
      "234it [00:14, 16.29it/s]\n",
      "62it [00:04,  8.36it/s][02:27<07:18, 14.61s/it]"
     ]
    },
    {
     "name": "stdout",
     "output_type": "stream",
     "text": [
      "Epoch 10, Step 2400, Train Loss (EMA) 1259.874,     Val. Loss 1291.757\n"
     ]
    },
    {
     "name": "stderr",
     "output_type": "stream",
     "text": [
      "162it [00:10,  9.27it/s]"
     ]
    },
    {
     "name": "stdout",
     "output_type": "stream",
     "text": [
      "Epoch 10, Step 2500, Train Loss (EMA) 1260.840,     Val. Loss 1311.625\n"
     ]
    },
    {
     "name": "stderr",
     "output_type": "stream",
     "text": [
      "234it [00:14, 16.39it/s]\n",
      "28it [00:02,  9.07it/s][02:42<07:01, 14.55s/it]"
     ]
    },
    {
     "name": "stdout",
     "output_type": "stream",
     "text": [
      "Epoch 11, Step 2600, Train Loss (EMA) 1258.374,     Val. Loss 1283.450\n"
     ]
    },
    {
     "name": "stderr",
     "output_type": "stream",
     "text": [
      "128it [00:08,  9.11it/s]"
     ]
    },
    {
     "name": "stdout",
     "output_type": "stream",
     "text": [
      "Epoch 11, Step 2700, Train Loss (EMA) 1253.754,     Val. Loss 1295.005\n"
     ]
    },
    {
     "name": "stderr",
     "output_type": "stream",
     "text": [
      "228it [00:14,  9.20it/s]"
     ]
    },
    {
     "name": "stdout",
     "output_type": "stream",
     "text": [
      "Epoch 11, Step 2800, Train Loss (EMA) 1256.883,     Val. Loss 1274.529\n"
     ]
    },
    {
     "name": "stderr",
     "output_type": "stream",
     "text": [
      "234it [00:14, 15.70it/s]\n",
      "94it [00:05,  9.18it/s][02:57<06:51, 14.69s/it]"
     ]
    },
    {
     "name": "stdout",
     "output_type": "stream",
     "text": [
      "Epoch 12, Step 2900, Train Loss (EMA) 1263.055,     Val. Loss 1259.356\n"
     ]
    },
    {
     "name": "stderr",
     "output_type": "stream",
     "text": [
      "194it [00:11,  9.30it/s]"
     ]
    },
    {
     "name": "stdout",
     "output_type": "stream",
     "text": [
      "Epoch 12, Step 3000, Train Loss (EMA) 1253.422,     Val. Loss 1275.622\n"
     ]
    },
    {
     "name": "stderr",
     "output_type": "stream",
     "text": [
      "234it [00:14, 16.49it/s]\n",
      "60it [00:04,  9.08it/s][03:11<06:33, 14.58s/it]"
     ]
    },
    {
     "name": "stdout",
     "output_type": "stream",
     "text": [
      "Epoch 13, Step 3100, Train Loss (EMA) 1256.146,     Val. Loss 1288.296\n"
     ]
    },
    {
     "name": "stderr",
     "output_type": "stream",
     "text": [
      "160it [00:10,  9.20it/s]"
     ]
    },
    {
     "name": "stdout",
     "output_type": "stream",
     "text": [
      "Epoch 13, Step 3200, Train Loss (EMA) 1249.346,     Val. Loss 1270.689\n"
     ]
    },
    {
     "name": "stderr",
     "output_type": "stream",
     "text": [
      "234it [00:14, 16.12it/s]\n",
      "26it [00:01,  9.08it/s][03:26<06:19, 14.60s/it]"
     ]
    },
    {
     "name": "stdout",
     "output_type": "stream",
     "text": [
      "Epoch 14, Step 3300, Train Loss (EMA) 1257.745,     Val. Loss 1264.868\n"
     ]
    },
    {
     "name": "stderr",
     "output_type": "stream",
     "text": [
      "126it [00:08,  9.22it/s]"
     ]
    },
    {
     "name": "stdout",
     "output_type": "stream",
     "text": [
      "Epoch 14, Step 3400, Train Loss (EMA) 1264.316,     Val. Loss 1265.468\n"
     ]
    },
    {
     "name": "stderr",
     "output_type": "stream",
     "text": [
      "226it [00:14,  9.23it/s]"
     ]
    },
    {
     "name": "stdout",
     "output_type": "stream",
     "text": [
      "Epoch 14, Step 3500, Train Loss (EMA) 1253.413,     Val. Loss 1253.771\n"
     ]
    },
    {
     "name": "stderr",
     "output_type": "stream",
     "text": [
      "234it [00:14, 15.84it/s]\n",
      "92it [00:05,  9.18it/s][03:41<06:07, 14.69s/it]"
     ]
    },
    {
     "name": "stdout",
     "output_type": "stream",
     "text": [
      "Epoch 15, Step 3600, Train Loss (EMA) 1241.925,     Val. Loss 1284.962\n"
     ]
    },
    {
     "name": "stderr",
     "output_type": "stream",
     "text": [
      "192it [00:11,  9.29it/s]"
     ]
    },
    {
     "name": "stdout",
     "output_type": "stream",
     "text": [
      "Epoch 15, Step 3700, Train Loss (EMA) 1263.640,     Val. Loss 1256.818\n"
     ]
    },
    {
     "name": "stderr",
     "output_type": "stream",
     "text": [
      "234it [00:14, 16.42it/s]\n",
      "59it [00:03,  9.15it/s][03:55<05:50, 14.60s/it]"
     ]
    },
    {
     "name": "stdout",
     "output_type": "stream",
     "text": [
      "Epoch 16, Step 3800, Train Loss (EMA) 1255.652,     Val. Loss 1270.849\n"
     ]
    },
    {
     "name": "stderr",
     "output_type": "stream",
     "text": [
      "159it [00:10,  9.21it/s]"
     ]
    },
    {
     "name": "stdout",
     "output_type": "stream",
     "text": [
      "Epoch 16, Step 3900, Train Loss (EMA) 1254.642,     Val. Loss 1266.799\n"
     ]
    },
    {
     "name": "stderr",
     "output_type": "stream",
     "text": [
      "234it [00:14, 16.23it/s]\n",
      "24it [00:01,  9.05it/s][04:10<05:35, 14.58s/it]"
     ]
    },
    {
     "name": "stdout",
     "output_type": "stream",
     "text": [
      "Epoch 17, Step 4000, Train Loss (EMA) 1224.568,     Val. Loss 1285.600\n"
     ]
    },
    {
     "name": "stderr",
     "output_type": "stream",
     "text": [
      "124it [00:08,  9.21it/s]"
     ]
    },
    {
     "name": "stdout",
     "output_type": "stream",
     "text": [
      "Epoch 17, Step 4100, Train Loss (EMA) 1232.785,     Val. Loss 1278.444\n"
     ]
    },
    {
     "name": "stderr",
     "output_type": "stream",
     "text": [
      "224it [00:14,  9.22it/s]"
     ]
    },
    {
     "name": "stdout",
     "output_type": "stream",
     "text": [
      "Epoch 17, Step 4200, Train Loss (EMA) 1219.205,     Val. Loss 1302.586\n"
     ]
    },
    {
     "name": "stderr",
     "output_type": "stream",
     "text": [
      "234it [00:14, 15.70it/s]\n",
      "90it [00:05,  9.09it/s][04:25<05:23, 14.72s/it]"
     ]
    },
    {
     "name": "stdout",
     "output_type": "stream",
     "text": [
      "Epoch 18, Step 4300, Train Loss (EMA) 1221.655,     Val. Loss 1245.603\n"
     ]
    },
    {
     "name": "stderr",
     "output_type": "stream",
     "text": [
      "190it [00:11,  9.19it/s]"
     ]
    },
    {
     "name": "stdout",
     "output_type": "stream",
     "text": [
      "Epoch 18, Step 4400, Train Loss (EMA) 1241.374,     Val. Loss 1247.617\n"
     ]
    },
    {
     "name": "stderr",
     "output_type": "stream",
     "text": [
      "234it [00:14, 16.14it/s]\n",
      "56it [00:03,  9.16it/s][04:39<05:08, 14.69s/it]"
     ]
    },
    {
     "name": "stdout",
     "output_type": "stream",
     "text": [
      "Epoch 19, Step 4500, Train Loss (EMA) 1245.351,     Val. Loss 1251.928\n"
     ]
    },
    {
     "name": "stderr",
     "output_type": "stream",
     "text": [
      "156it [00:09,  9.27it/s]"
     ]
    },
    {
     "name": "stdout",
     "output_type": "stream",
     "text": [
      "Epoch 19, Step 4600, Train Loss (EMA) 1247.545,     Val. Loss 1239.051\n"
     ]
    },
    {
     "name": "stderr",
     "output_type": "stream",
     "text": [
      "234it [00:14, 16.34it/s]\n",
      "22it [00:01,  8.99it/s][04:54<04:52, 14.62s/it]"
     ]
    },
    {
     "name": "stdout",
     "output_type": "stream",
     "text": [
      "Epoch 20, Step 4700, Train Loss (EMA) 1232.248,     Val. Loss 1247.436\n"
     ]
    },
    {
     "name": "stderr",
     "output_type": "stream",
     "text": [
      "122it [00:07,  9.20it/s]"
     ]
    },
    {
     "name": "stdout",
     "output_type": "stream",
     "text": [
      "Epoch 20, Step 4800, Train Loss (EMA) 1250.549,     Val. Loss 1254.644\n"
     ]
    },
    {
     "name": "stderr",
     "output_type": "stream",
     "text": [
      "222it [00:14,  9.21it/s]"
     ]
    },
    {
     "name": "stdout",
     "output_type": "stream",
     "text": [
      "Epoch 20, Step 4900, Train Loss (EMA) 1246.207,     Val. Loss 1253.512\n"
     ]
    },
    {
     "name": "stderr",
     "output_type": "stream",
     "text": [
      "234it [00:14, 15.74it/s]\n",
      "88it [00:05,  9.04it/s][05:09<04:39, 14.74s/it]"
     ]
    },
    {
     "name": "stdout",
     "output_type": "stream",
     "text": [
      "Epoch 21, Step 5000, Train Loss (EMA) 1216.244,     Val. Loss 1256.410\n"
     ]
    },
    {
     "name": "stderr",
     "output_type": "stream",
     "text": [
      "188it [00:11,  8.39it/s]"
     ]
    },
    {
     "name": "stdout",
     "output_type": "stream",
     "text": [
      "Epoch 21, Step 5100, Train Loss (EMA) 1221.009,     Val. Loss 1199.329\n"
     ]
    },
    {
     "name": "stderr",
     "output_type": "stream",
     "text": [
      "234it [00:14, 16.10it/s]\n",
      "54it [00:03,  9.10it/s][05:23<04:24, 14.71s/it]"
     ]
    },
    {
     "name": "stdout",
     "output_type": "stream",
     "text": [
      "Epoch 22, Step 5200, Train Loss (EMA) 1223.699,     Val. Loss 1265.360\n"
     ]
    },
    {
     "name": "stderr",
     "output_type": "stream",
     "text": [
      "154it [00:09,  9.18it/s]"
     ]
    },
    {
     "name": "stdout",
     "output_type": "stream",
     "text": [
      "Epoch 22, Step 5300, Train Loss (EMA) 1228.568,     Val. Loss 1204.359\n"
     ]
    },
    {
     "name": "stderr",
     "output_type": "stream",
     "text": [
      "234it [00:14, 16.25it/s]\n",
      "20it [00:01,  9.00it/s][05:38<04:09, 14.66s/it]"
     ]
    },
    {
     "name": "stdout",
     "output_type": "stream",
     "text": [
      "Epoch 23, Step 5400, Train Loss (EMA) 1225.635,     Val. Loss 1214.619\n"
     ]
    },
    {
     "name": "stderr",
     "output_type": "stream",
     "text": [
      "120it [00:07,  9.22it/s]"
     ]
    },
    {
     "name": "stdout",
     "output_type": "stream",
     "text": [
      "Epoch 23, Step 5500, Train Loss (EMA) 1223.654,     Val. Loss 1222.227\n"
     ]
    },
    {
     "name": "stderr",
     "output_type": "stream",
     "text": [
      "220it [00:13,  9.20it/s]"
     ]
    },
    {
     "name": "stdout",
     "output_type": "stream",
     "text": [
      "Epoch 23, Step 5600, Train Loss (EMA) 1228.461,     Val. Loss 1238.422\n"
     ]
    },
    {
     "name": "stderr",
     "output_type": "stream",
     "text": [
      "234it [00:14, 15.78it/s]\n",
      "86it [00:05,  9.17it/s][05:53<03:55, 14.75s/it]"
     ]
    },
    {
     "name": "stdout",
     "output_type": "stream",
     "text": [
      "Epoch 24, Step 5700, Train Loss (EMA) 1222.914,     Val. Loss 1240.734\n"
     ]
    },
    {
     "name": "stderr",
     "output_type": "stream",
     "text": [
      "186it [00:11,  8.84it/s]"
     ]
    },
    {
     "name": "stdout",
     "output_type": "stream",
     "text": [
      "Epoch 24, Step 5800, Train Loss (EMA) 1218.419,     Val. Loss 1238.736\n"
     ]
    },
    {
     "name": "stderr",
     "output_type": "stream",
     "text": [
      "234it [00:14, 16.36it/s]\n",
      "52it [00:03,  9.04it/s][06:07<03:39, 14.65s/it]"
     ]
    },
    {
     "name": "stdout",
     "output_type": "stream",
     "text": [
      "Epoch 25, Step 5900, Train Loss (EMA) 1209.650,     Val. Loss 1194.981\n"
     ]
    },
    {
     "name": "stderr",
     "output_type": "stream",
     "text": [
      "152it [00:09,  9.21it/s]"
     ]
    },
    {
     "name": "stdout",
     "output_type": "stream",
     "text": [
      "Epoch 25, Step 6000, Train Loss (EMA) 1214.071,     Val. Loss 1236.041\n"
     ]
    },
    {
     "name": "stderr",
     "output_type": "stream",
     "text": [
      "234it [00:14, 16.21it/s]\n",
      "18it [00:01,  8.80it/s][06:22<03:24, 14.63s/it]"
     ]
    },
    {
     "name": "stdout",
     "output_type": "stream",
     "text": [
      "Epoch 26, Step 6100, Train Loss (EMA) 1187.392,     Val. Loss 1226.062\n"
     ]
    },
    {
     "name": "stderr",
     "output_type": "stream",
     "text": [
      "118it [00:07,  9.22it/s]"
     ]
    },
    {
     "name": "stdout",
     "output_type": "stream",
     "text": [
      "Epoch 26, Step 6200, Train Loss (EMA) 1208.283,     Val. Loss 1246.663\n"
     ]
    },
    {
     "name": "stderr",
     "output_type": "stream",
     "text": [
      "218it [00:13,  9.19it/s]"
     ]
    },
    {
     "name": "stdout",
     "output_type": "stream",
     "text": [
      "Epoch 26, Step 6300, Train Loss (EMA) 1207.397,     Val. Loss 1198.156\n"
     ]
    },
    {
     "name": "stderr",
     "output_type": "stream",
     "text": [
      "234it [00:14, 15.71it/s]\n",
      "84it [00:05,  9.08it/s][06:37<03:11, 14.74s/it]"
     ]
    },
    {
     "name": "stdout",
     "output_type": "stream",
     "text": [
      "Epoch 27, Step 6400, Train Loss (EMA) 1222.904,     Val. Loss 1221.794\n"
     ]
    },
    {
     "name": "stderr",
     "output_type": "stream",
     "text": [
      "184it [00:11,  8.77it/s]"
     ]
    },
    {
     "name": "stdout",
     "output_type": "stream",
     "text": [
      "Epoch 27, Step 6500, Train Loss (EMA) 1218.725,     Val. Loss 1239.720\n"
     ]
    },
    {
     "name": "stderr",
     "output_type": "stream",
     "text": [
      "234it [00:14, 16.13it/s]\n",
      "50it [00:03,  9.05it/s][06:52<02:56, 14.71s/it]"
     ]
    },
    {
     "name": "stdout",
     "output_type": "stream",
     "text": [
      "Epoch 28, Step 6600, Train Loss (EMA) 1227.591,     Val. Loss 1237.428\n"
     ]
    },
    {
     "name": "stderr",
     "output_type": "stream",
     "text": [
      "150it [00:09,  9.22it/s]"
     ]
    },
    {
     "name": "stdout",
     "output_type": "stream",
     "text": [
      "Epoch 28, Step 6700, Train Loss (EMA) 1217.377,     Val. Loss 1209.030\n"
     ]
    },
    {
     "name": "stderr",
     "output_type": "stream",
     "text": [
      "234it [00:14, 16.16it/s]\n",
      "16it [00:01,  8.80it/s][07:06<02:41, 14.68s/it]"
     ]
    },
    {
     "name": "stdout",
     "output_type": "stream",
     "text": [
      "Epoch 29, Step 6800, Train Loss (EMA) 1213.499,     Val. Loss 1238.647\n"
     ]
    },
    {
     "name": "stderr",
     "output_type": "stream",
     "text": [
      "116it [00:07,  9.25it/s]"
     ]
    },
    {
     "name": "stdout",
     "output_type": "stream",
     "text": [
      "Epoch 29, Step 6900, Train Loss (EMA) 1215.544,     Val. Loss 1252.011\n"
     ]
    },
    {
     "name": "stderr",
     "output_type": "stream",
     "text": [
      "216it [00:13,  9.24it/s]"
     ]
    },
    {
     "name": "stdout",
     "output_type": "stream",
     "text": [
      "Epoch 29, Step 7000, Train Loss (EMA) 1200.249,     Val. Loss 1255.417\n"
     ]
    },
    {
     "name": "stderr",
     "output_type": "stream",
     "text": [
      "234it [00:14, 15.79it/s]\n",
      "82it [00:05,  9.13it/s][07:21<02:27, 14.76s/it]"
     ]
    },
    {
     "name": "stdout",
     "output_type": "stream",
     "text": [
      "Epoch 30, Step 7100, Train Loss (EMA) 1188.798,     Val. Loss 1274.186\n"
     ]
    },
    {
     "name": "stderr",
     "output_type": "stream",
     "text": [
      "182it [00:11,  8.44it/s]"
     ]
    },
    {
     "name": "stdout",
     "output_type": "stream",
     "text": [
      "Epoch 30, Step 7200, Train Loss (EMA) 1206.816,     Val. Loss 1204.625\n"
     ]
    },
    {
     "name": "stderr",
     "output_type": "stream",
     "text": [
      "234it [00:14, 16.27it/s]\n",
      "48it [00:03,  9.11it/s][07:36<02:12, 14.68s/it]"
     ]
    },
    {
     "name": "stdout",
     "output_type": "stream",
     "text": [
      "Epoch 31, Step 7300, Train Loss (EMA) 1209.681,     Val. Loss 1233.842\n"
     ]
    },
    {
     "name": "stderr",
     "output_type": "stream",
     "text": [
      "148it [00:09,  9.13it/s]"
     ]
    },
    {
     "name": "stdout",
     "output_type": "stream",
     "text": [
      "Epoch 31, Step 7400, Train Loss (EMA) 1219.155,     Val. Loss 1216.010\n"
     ]
    },
    {
     "name": "stderr",
     "output_type": "stream",
     "text": [
      "234it [00:14, 16.17it/s]\n",
      "14it [00:01,  8.65it/s][07:50<01:57, 14.66s/it]"
     ]
    },
    {
     "name": "stdout",
     "output_type": "stream",
     "text": [
      "Epoch 32, Step 7500, Train Loss (EMA) 1205.837,     Val. Loss 1240.499\n"
     ]
    },
    {
     "name": "stderr",
     "output_type": "stream",
     "text": [
      "114it [00:07,  9.12it/s]"
     ]
    },
    {
     "name": "stdout",
     "output_type": "stream",
     "text": [
      "Epoch 32, Step 7600, Train Loss (EMA) 1208.378,     Val. Loss 1195.259\n"
     ]
    },
    {
     "name": "stderr",
     "output_type": "stream",
     "text": [
      "214it [00:13,  9.16it/s]"
     ]
    },
    {
     "name": "stdout",
     "output_type": "stream",
     "text": [
      "Epoch 32, Step 7700, Train Loss (EMA) 1228.600,     Val. Loss 1240.715\n"
     ]
    },
    {
     "name": "stderr",
     "output_type": "stream",
     "text": [
      "234it [00:15, 15.53it/s]\n",
      "80it [00:05,  9.08it/s][08:05<01:43, 14.82s/it]"
     ]
    },
    {
     "name": "stdout",
     "output_type": "stream",
     "text": [
      "Epoch 33, Step 7800, Train Loss (EMA) 1212.209,     Val. Loss 1251.340\n"
     ]
    },
    {
     "name": "stderr",
     "output_type": "stream",
     "text": [
      "180it [00:11,  9.17it/s]"
     ]
    },
    {
     "name": "stdout",
     "output_type": "stream",
     "text": [
      "Epoch 33, Step 7900, Train Loss (EMA) 1208.114,     Val. Loss 1224.079\n"
     ]
    },
    {
     "name": "stderr",
     "output_type": "stream",
     "text": [
      "234it [00:14, 16.08it/s]\n",
      "46it [00:03,  9.05it/s][08:20<01:28, 14.78s/it]"
     ]
    },
    {
     "name": "stdout",
     "output_type": "stream",
     "text": [
      "Epoch 34, Step 8000, Train Loss (EMA) 1205.259,     Val. Loss 1177.761\n"
     ]
    },
    {
     "name": "stderr",
     "output_type": "stream",
     "text": [
      "146it [00:09,  9.14it/s]"
     ]
    },
    {
     "name": "stdout",
     "output_type": "stream",
     "text": [
      "Epoch 34, Step 8100, Train Loss (EMA) 1193.429,     Val. Loss 1211.695\n"
     ]
    },
    {
     "name": "stderr",
     "output_type": "stream",
     "text": [
      "234it [00:14, 16.08it/s]\n",
      "12it [00:01,  8.53it/s][08:35<01:13, 14.75s/it]"
     ]
    },
    {
     "name": "stdout",
     "output_type": "stream",
     "text": [
      "Epoch 35, Step 8200, Train Loss (EMA) 1194.197,     Val. Loss 1219.988\n"
     ]
    },
    {
     "name": "stderr",
     "output_type": "stream",
     "text": [
      "112it [00:07,  9.25it/s]"
     ]
    },
    {
     "name": "stdout",
     "output_type": "stream",
     "text": [
      "Epoch 35, Step 8300, Train Loss (EMA) 1198.377,     Val. Loss 1198.745\n"
     ]
    },
    {
     "name": "stderr",
     "output_type": "stream",
     "text": [
      "212it [00:13,  9.26it/s]"
     ]
    },
    {
     "name": "stdout",
     "output_type": "stream",
     "text": [
      "Epoch 35, Step 8400, Train Loss (EMA) 1193.405,     Val. Loss 1214.414\n"
     ]
    },
    {
     "name": "stderr",
     "output_type": "stream",
     "text": [
      "234it [00:14, 15.88it/s]\n",
      "78it [00:04,  9.07it/s][08:50<00:59, 14.79s/it]"
     ]
    },
    {
     "name": "stdout",
     "output_type": "stream",
     "text": [
      "Epoch 36, Step 8500, Train Loss (EMA) 1177.915,     Val. Loss 1195.784\n"
     ]
    },
    {
     "name": "stderr",
     "output_type": "stream",
     "text": [
      "178it [00:11,  9.49it/s]"
     ]
    },
    {
     "name": "stdout",
     "output_type": "stream",
     "text": [
      "Epoch 36, Step 8600, Train Loss (EMA) 1175.796,     Val. Loss 1216.014\n"
     ]
    },
    {
     "name": "stderr",
     "output_type": "stream",
     "text": [
      "234it [00:14, 16.56it/s]\n",
      "44it [00:03,  9.09it/s][09:04<00:43, 14.63s/it]"
     ]
    },
    {
     "name": "stdout",
     "output_type": "stream",
     "text": [
      "Epoch 37, Step 8700, Train Loss (EMA) 1190.390,     Val. Loss 1194.076\n"
     ]
    },
    {
     "name": "stderr",
     "output_type": "stream",
     "text": [
      "144it [00:09,  9.17it/s]"
     ]
    },
    {
     "name": "stdout",
     "output_type": "stream",
     "text": [
      "Epoch 37, Step 8800, Train Loss (EMA) 1201.131,     Val. Loss 1182.627\n"
     ]
    },
    {
     "name": "stderr",
     "output_type": "stream",
     "text": [
      "234it [00:14, 16.21it/s]\n",
      "10it [00:01,  8.20it/s][09:18<00:29, 14.61s/it]"
     ]
    },
    {
     "name": "stdout",
     "output_type": "stream",
     "text": [
      "Epoch 38, Step 8900, Train Loss (EMA) 1182.741,     Val. Loss 1219.599\n"
     ]
    },
    {
     "name": "stderr",
     "output_type": "stream",
     "text": [
      "110it [00:07,  9.15it/s]"
     ]
    },
    {
     "name": "stdout",
     "output_type": "stream",
     "text": [
      "Epoch 38, Step 9000, Train Loss (EMA) 1176.191,     Val. Loss 1220.218\n"
     ]
    },
    {
     "name": "stderr",
     "output_type": "stream",
     "text": [
      "210it [00:13,  9.23it/s]"
     ]
    },
    {
     "name": "stdout",
     "output_type": "stream",
     "text": [
      "Epoch 38, Step 9100, Train Loss (EMA) 1186.599,     Val. Loss 1197.948\n"
     ]
    },
    {
     "name": "stderr",
     "output_type": "stream",
     "text": [
      "234it [00:14, 15.63it/s]\n",
      "76it [00:04,  9.08it/s][09:34<00:14, 14.76s/it]"
     ]
    },
    {
     "name": "stdout",
     "output_type": "stream",
     "text": [
      "Epoch 39, Step 9200, Train Loss (EMA) 1202.828,     Val. Loss 1177.023\n"
     ]
    },
    {
     "name": "stderr",
     "output_type": "stream",
     "text": [
      "176it [00:11,  9.17it/s]"
     ]
    },
    {
     "name": "stdout",
     "output_type": "stream",
     "text": [
      "Epoch 39, Step 9300, Train Loss (EMA) 1195.533,     Val. Loss 1212.964\n"
     ]
    },
    {
     "name": "stderr",
     "output_type": "stream",
     "text": [
      "234it [00:14, 16.11it/s]\n",
      "100%|██████████| 40/40 [09:48<00:00, 14.72s/it]\n"
     ]
    }
   ],
   "source": [
    "# Counter\n",
    "start_epoch = 0\n",
    "step = 0\n",
    "if config.model.ema:\n",
    "    ema_helper = EMAHelper(mu=config.model.ema_rate)\n",
    "    ema_helper.register(diffuser)\n",
    "\n",
    "# Get a collection of sigma values\n",
    "sigmas = get_sigmas(config)\n",
    "\n",
    "# Always the same initial points and data for validation\n",
    "val_H_list = []\n",
    "for idx in range(len(config.data.spacing_list)):\n",
    "    val_sample = next(val_iters[idx])\n",
    "    val_H_list.append(val_sample['H_herm'].cuda())\n",
    "\n",
    "# More logging\n",
    "config.log_path = 'models/\\\n",
    "numLambdas%d_lambdaMin%.1f_lambdaMax%.1f_sigmaT%.1f' % (\n",
    "    len(config.data.spacing_list), np.min(config.data.spacing_list),\n",
    "    np.max(config.data.spacing_list), config.model.sigma_begin)\n",
    "if not os.path.exists(config.log_path):\n",
    "    os.makedirs(config.log_path)\n",
    "# No sigma logging\n",
    "hook = test_hook = None\n",
    "\n",
    "# Logged metrics\n",
    "train_loss, val_loss  = [], []\n",
    "val_errors, val_epoch = [], []\n",
    "\n",
    "for epoch in tqdm(range(start_epoch, config.training.n_epochs)):\n",
    "    for i, sample in tqdm(enumerate(dataloader)):\n",
    "        # Safety check\n",
    "        diffuser.train()\n",
    "        step += 1\n",
    "        \n",
    "        # Move data to device\n",
    "        for key in sample:\n",
    "            sample[key] = sample[key].cuda()\n",
    "        \n",
    "        # Get loss on Hermitian channels\n",
    "        loss = anneal_dsm_score_estimation(\n",
    "            diffuser, sample['H_herm'], sigmas, None, \n",
    "            config.training.anneal_power, hook)\n",
    "        \n",
    "        # Keep a running loss\n",
    "        if step == 1:\n",
    "            running_loss = loss.item()\n",
    "        else:\n",
    "            running_loss = 0.99 * running_loss + 0.01 * loss.item()\n",
    "        # Log\n",
    "        train_loss.append(loss.item())\n",
    "        \n",
    "        # Step\n",
    "        optimizer.zero_grad()\n",
    "        loss.backward()\n",
    "        optimizer.step()\n",
    "        \n",
    "        # EMA update\n",
    "        if config.model.ema:\n",
    "            ema_helper.update(diffuser)\n",
    "            \n",
    "        # Verbose\n",
    "        if step % 100 == 0:\n",
    "            if config.model.ema:\n",
    "                val_score = ema_helper.ema_copy(diffuser)\n",
    "            else:\n",
    "                val_score = diffuser\n",
    "            \n",
    "            # For each validation setup\n",
    "            local_val_losses = []\n",
    "            for idx in range(len(config.data.spacing_list)):\n",
    "                with torch.no_grad():\n",
    "                    val_dsm_loss = \\\n",
    "                        anneal_dsm_score_estimation(\n",
    "                            val_score, val_H_list[idx],\n",
    "                            sigmas, None,\n",
    "                            config.training.anneal_power,\n",
    "                            hook=test_hook)\n",
    "                # Store\n",
    "                local_val_losses.append(val_dsm_loss.item())\n",
    "            # Sanity delete\n",
    "            del val_score\n",
    "            # Log\n",
    "            val_loss.append(local_val_losses)\n",
    "                \n",
    "            # Print\n",
    "            if len(local_val_losses) == 1:\n",
    "                print('Epoch %d, Step %d, Train Loss (EMA) %.3f, \\\n",
    "    Val. Loss %.3f' % (\n",
    "                    epoch, step, running_loss, \n",
    "                    local_val_losses[0]))\n",
    "            elif len(local_val_losses) == 2:\n",
    "                print('Epoch %d, Step %d, Train Loss (EMA) %.3f, \\\n",
    "    Val. Loss (Split) %.3f %.3f' % (\n",
    "                    epoch, step, running_loss, \n",
    "                    local_val_losses[0], local_val_losses[1]))\n",
    "        \n",
    "# Save snapshot\n",
    "torch.save({'model_state': diffuser.state_dict(),\n",
    "            'optim_state': optimizer.state_dict(),\n",
    "            'config': config,\n",
    "            'train_loss': train_loss,\n",
    "            'val_loss': val_loss,\n",
    "            'val_errors': val_errors,\n",
    "            'val_epoch': val_epoch}, \n",
    "   os.path.join(config.log_path, 'final_model_3gpp_64.pt'))"
   ]
  },
  {
   "cell_type": "code",
   "execution_count": null,
   "metadata": {},
   "outputs": [],
   "source": []
  }
 ],
 "metadata": {
  "kernelspec": {
   "display_name": "torch-env",
   "language": "python",
   "name": "python3"
  },
  "language_info": {
   "codemirror_mode": {
    "name": "ipython",
    "version": 3
   },
   "file_extension": ".py",
   "mimetype": "text/x-python",
   "name": "python",
   "nbconvert_exporter": "python",
   "pygments_lexer": "ipython3",
   "version": "3.9.7"
  },
  "orig_nbformat": 4,
  "vscode": {
   "interpreter": {
    "hash": "ac4117b4f16cf43a7b4d29a08f995b98bcec8327806e376c489c9fe767f71064"
   }
  }
 },
 "nbformat": 4,
 "nbformat_minor": 2
}
